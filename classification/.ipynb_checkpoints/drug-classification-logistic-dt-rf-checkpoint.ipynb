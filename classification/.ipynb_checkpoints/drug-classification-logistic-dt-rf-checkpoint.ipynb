{
 "cells": [
  {
   "cell_type": "code",
   "execution_count": 121,
   "metadata": {
    "execution": {
     "iopub.execute_input": "2022-10-26T16:41:45.752642Z",
     "iopub.status.busy": "2022-10-26T16:41:45.752056Z",
     "iopub.status.idle": "2022-10-26T16:41:45.769066Z",
     "shell.execute_reply": "2022-10-26T16:41:45.767792Z",
     "shell.execute_reply.started": "2022-10-26T16:41:45.752592Z"
    }
   },
   "outputs": [],
   "source": [
    "# This Python 3 environment comes with many helpful analytics libraries installed\n",
    "# It is defined by the kaggle/python Docker image: https://github.com/kaggle/docker-python\n",
    "# For example, here's several helpful packages to load\n",
    "\n",
    "import numpy as np # linear algebra\n",
    "import pandas as pd # data processing, CSV file I/O (e.g. pd.read_csv)\n",
    "import matplotlib.pyplot as plt\n",
    "import seaborn as sns\n",
    "import warnings\n",
    "warnings.filterwarnings('ignore')\n",
    "\n",
    "# Input data files are available in the read-only \"../input/\" directory\n",
    "# For example, running this (by clicking run or pressing Shift+Enter) will list all files under the input directory\n",
    "\n",
    "import os\n",
    "\n",
    "\n",
    "# You can write up to 20GB to the current directory (/kaggle/working/) that gets preserved as output when you create a version using \"Save & Run All\" \n",
    "# You can also write temporary files to /kaggle/temp/, but they won't be saved outside of the current session\n",
    "\n"
   ]
  },
  {
   "cell_type": "code",
   "execution_count": 122,
   "metadata": {
    "execution": {
     "iopub.execute_input": "2022-10-26T16:41:45.772001Z",
     "iopub.status.busy": "2022-10-26T16:41:45.771524Z",
     "iopub.status.idle": "2022-10-26T16:41:45.792164Z",
     "shell.execute_reply": "2022-10-26T16:41:45.790643Z",
     "shell.execute_reply.started": "2022-10-26T16:41:45.771952Z"
    }
   },
   "outputs": [
    {
     "data": {
      "text/html": [
       "<div>\n",
       "<style scoped>\n",
       "    .dataframe tbody tr th:only-of-type {\n",
       "        vertical-align: middle;\n",
       "    }\n",
       "\n",
       "    .dataframe tbody tr th {\n",
       "        vertical-align: top;\n",
       "    }\n",
       "\n",
       "    .dataframe thead th {\n",
       "        text-align: right;\n",
       "    }\n",
       "</style>\n",
       "<table border=\"1\" class=\"dataframe\">\n",
       "  <thead>\n",
       "    <tr style=\"text-align: right;\">\n",
       "      <th></th>\n",
       "      <th>Age</th>\n",
       "      <th>Sex</th>\n",
       "      <th>BP</th>\n",
       "      <th>Cholesterol</th>\n",
       "      <th>Na_to_K</th>\n",
       "      <th>Drug</th>\n",
       "    </tr>\n",
       "  </thead>\n",
       "  <tbody>\n",
       "    <tr>\n",
       "      <th>0</th>\n",
       "      <td>23</td>\n",
       "      <td>F</td>\n",
       "      <td>HIGH</td>\n",
       "      <td>HIGH</td>\n",
       "      <td>25.355</td>\n",
       "      <td>DrugY</td>\n",
       "    </tr>\n",
       "    <tr>\n",
       "      <th>1</th>\n",
       "      <td>47</td>\n",
       "      <td>M</td>\n",
       "      <td>LOW</td>\n",
       "      <td>HIGH</td>\n",
       "      <td>13.093</td>\n",
       "      <td>drugC</td>\n",
       "    </tr>\n",
       "    <tr>\n",
       "      <th>2</th>\n",
       "      <td>47</td>\n",
       "      <td>M</td>\n",
       "      <td>LOW</td>\n",
       "      <td>HIGH</td>\n",
       "      <td>10.114</td>\n",
       "      <td>drugC</td>\n",
       "    </tr>\n",
       "    <tr>\n",
       "      <th>3</th>\n",
       "      <td>28</td>\n",
       "      <td>F</td>\n",
       "      <td>NORMAL</td>\n",
       "      <td>HIGH</td>\n",
       "      <td>7.798</td>\n",
       "      <td>drugX</td>\n",
       "    </tr>\n",
       "    <tr>\n",
       "      <th>4</th>\n",
       "      <td>61</td>\n",
       "      <td>F</td>\n",
       "      <td>LOW</td>\n",
       "      <td>HIGH</td>\n",
       "      <td>18.043</td>\n",
       "      <td>DrugY</td>\n",
       "    </tr>\n",
       "  </tbody>\n",
       "</table>\n",
       "</div>"
      ],
      "text/plain": [
       "   Age Sex      BP Cholesterol  Na_to_K   Drug\n",
       "0   23   F    HIGH        HIGH   25.355  DrugY\n",
       "1   47   M     LOW        HIGH   13.093  drugC\n",
       "2   47   M     LOW        HIGH   10.114  drugC\n",
       "3   28   F  NORMAL        HIGH    7.798  drugX\n",
       "4   61   F     LOW        HIGH   18.043  DrugY"
      ]
     },
     "execution_count": 122,
     "metadata": {},
     "output_type": "execute_result"
    }
   ],
   "source": [
    "df = pd.read_csv('drug200.csv')\n",
    "df.head()"
   ]
  },
  {
   "cell_type": "code",
   "execution_count": 123,
   "metadata": {
    "execution": {
     "iopub.execute_input": "2022-10-26T16:41:45.79431Z",
     "iopub.status.busy": "2022-10-26T16:41:45.793805Z",
     "iopub.status.idle": "2022-10-26T16:41:45.802787Z",
     "shell.execute_reply": "2022-10-26T16:41:45.801294Z",
     "shell.execute_reply.started": "2022-10-26T16:41:45.794275Z"
    }
   },
   "outputs": [
    {
     "data": {
      "text/plain": [
       "(200, 6)"
      ]
     },
     "execution_count": 123,
     "metadata": {},
     "output_type": "execute_result"
    }
   ],
   "source": [
    "df.shape"
   ]
  },
  {
   "cell_type": "code",
   "execution_count": 124,
   "metadata": {
    "execution": {
     "iopub.execute_input": "2022-10-26T16:41:45.80477Z",
     "iopub.status.busy": "2022-10-26T16:41:45.804311Z",
     "iopub.status.idle": "2022-10-26T16:41:45.824813Z",
     "shell.execute_reply": "2022-10-26T16:41:45.8233Z",
     "shell.execute_reply.started": "2022-10-26T16:41:45.804723Z"
    }
   },
   "outputs": [
    {
     "name": "stdout",
     "output_type": "stream",
     "text": [
      "<class 'pandas.core.frame.DataFrame'>\n",
      "RangeIndex: 200 entries, 0 to 199\n",
      "Data columns (total 6 columns):\n",
      " #   Column       Non-Null Count  Dtype  \n",
      "---  ------       --------------  -----  \n",
      " 0   Age          200 non-null    int64  \n",
      " 1   Sex          200 non-null    object \n",
      " 2   BP           200 non-null    object \n",
      " 3   Cholesterol  200 non-null    object \n",
      " 4   Na_to_K      200 non-null    float64\n",
      " 5   Drug         200 non-null    object \n",
      "dtypes: float64(1), int64(1), object(4)\n",
      "memory usage: 9.5+ KB\n"
     ]
    }
   ],
   "source": [
    "df.info()\n",
    "# We have categorical variables in data"
   ]
  },
  {
   "cell_type": "code",
   "execution_count": 125,
   "metadata": {
    "execution": {
     "iopub.execute_input": "2022-10-26T16:41:45.829434Z",
     "iopub.status.busy": "2022-10-26T16:41:45.828863Z",
     "iopub.status.idle": "2022-10-26T16:41:45.86024Z",
     "shell.execute_reply": "2022-10-26T16:41:45.859038Z",
     "shell.execute_reply.started": "2022-10-26T16:41:45.829387Z"
    }
   },
   "outputs": [
    {
     "data": {
      "text/html": [
       "<div>\n",
       "<style scoped>\n",
       "    .dataframe tbody tr th:only-of-type {\n",
       "        vertical-align: middle;\n",
       "    }\n",
       "\n",
       "    .dataframe tbody tr th {\n",
       "        vertical-align: top;\n",
       "    }\n",
       "\n",
       "    .dataframe thead th {\n",
       "        text-align: right;\n",
       "    }\n",
       "</style>\n",
       "<table border=\"1\" class=\"dataframe\">\n",
       "  <thead>\n",
       "    <tr style=\"text-align: right;\">\n",
       "      <th></th>\n",
       "      <th>count</th>\n",
       "      <th>mean</th>\n",
       "      <th>std</th>\n",
       "      <th>min</th>\n",
       "      <th>25%</th>\n",
       "      <th>50%</th>\n",
       "      <th>75%</th>\n",
       "      <th>max</th>\n",
       "    </tr>\n",
       "  </thead>\n",
       "  <tbody>\n",
       "    <tr>\n",
       "      <th>Age</th>\n",
       "      <td>200.0</td>\n",
       "      <td>44.315000</td>\n",
       "      <td>16.544315</td>\n",
       "      <td>15.000</td>\n",
       "      <td>31.0000</td>\n",
       "      <td>45.0000</td>\n",
       "      <td>58.00</td>\n",
       "      <td>74.000</td>\n",
       "    </tr>\n",
       "    <tr>\n",
       "      <th>Na_to_K</th>\n",
       "      <td>200.0</td>\n",
       "      <td>16.084485</td>\n",
       "      <td>7.223956</td>\n",
       "      <td>6.269</td>\n",
       "      <td>10.4455</td>\n",
       "      <td>13.9365</td>\n",
       "      <td>19.38</td>\n",
       "      <td>38.247</td>\n",
       "    </tr>\n",
       "  </tbody>\n",
       "</table>\n",
       "</div>"
      ],
      "text/plain": [
       "         count       mean        std     min      25%      50%    75%     max\n",
       "Age      200.0  44.315000  16.544315  15.000  31.0000  45.0000  58.00  74.000\n",
       "Na_to_K  200.0  16.084485   7.223956   6.269  10.4455  13.9365  19.38  38.247"
      ]
     },
     "execution_count": 125,
     "metadata": {},
     "output_type": "execute_result"
    }
   ],
   "source": [
    "df.describe().T"
   ]
  },
  {
   "cell_type": "code",
   "execution_count": 126,
   "metadata": {
    "execution": {
     "iopub.execute_input": "2022-10-26T16:41:45.86237Z",
     "iopub.status.busy": "2022-10-26T16:41:45.861983Z",
     "iopub.status.idle": "2022-10-26T16:41:45.869809Z",
     "shell.execute_reply": "2022-10-26T16:41:45.868325Z",
     "shell.execute_reply.started": "2022-10-26T16:41:45.862335Z"
    }
   },
   "outputs": [
    {
     "data": {
      "text/plain": [
       "(200, 6)"
      ]
     },
     "execution_count": 126,
     "metadata": {},
     "output_type": "execute_result"
    }
   ],
   "source": [
    "df.shape\n",
    "# We have a very small dataset will just 200 datapoints. 5 Features are 1 target."
   ]
  },
  {
   "cell_type": "code",
   "execution_count": 127,
   "metadata": {
    "execution": {
     "iopub.execute_input": "2022-10-26T16:41:45.873118Z",
     "iopub.status.busy": "2022-10-26T16:41:45.872546Z",
     "iopub.status.idle": "2022-10-26T16:41:45.88577Z",
     "shell.execute_reply": "2022-10-26T16:41:45.8844Z",
     "shell.execute_reply.started": "2022-10-26T16:41:45.873069Z"
    }
   },
   "outputs": [
    {
     "data": {
      "text/plain": [
       "Age            0\n",
       "Sex            0\n",
       "BP             0\n",
       "Cholesterol    0\n",
       "Na_to_K        0\n",
       "Drug           0\n",
       "dtype: int64"
      ]
     },
     "execution_count": 127,
     "metadata": {},
     "output_type": "execute_result"
    }
   ],
   "source": [
    "df.isna().sum()\n",
    "# No missing values, so no need to impute data"
   ]
  },
  {
   "cell_type": "markdown",
   "metadata": {},
   "source": [
    "### 2. Univariate Analysis"
   ]
  },
  {
   "cell_type": "code",
   "execution_count": 128,
   "metadata": {
    "execution": {
     "iopub.execute_input": "2022-10-26T16:41:45.887799Z",
     "iopub.status.busy": "2022-10-26T16:41:45.88744Z",
     "iopub.status.idle": "2022-10-26T16:41:45.899755Z",
     "shell.execute_reply": "2022-10-26T16:41:45.898229Z",
     "shell.execute_reply.started": "2022-10-26T16:41:45.887769Z"
    }
   },
   "outputs": [
    {
     "name": "stdout",
     "output_type": "stream",
     "text": [
      "Max of Age :  74\n",
      "Min of Age :  15\n",
      "[23 47 28 61 22 49 41 60 43 34 74 50 16 69 32 57 63 48 33 31 39 45 18 65\n",
      " 53 46 15 73 58 66 37 68 67 62 24 26 40 38 29 17 54 70 36 19 64 59 51 42\n",
      " 56 20 72 35 52 55 30 21 25]\n"
     ]
    }
   ],
   "source": [
    "print('Max of Age : ', df.Age.max())\n",
    "print('Min of Age : ', df.Age.min())\n",
    "print(df.Age.unique())"
   ]
  },
  {
   "cell_type": "code",
   "execution_count": 129,
   "metadata": {
    "execution": {
     "iopub.execute_input": "2022-10-26T16:41:45.905244Z",
     "iopub.status.busy": "2022-10-26T16:41:45.904147Z",
     "iopub.status.idle": "2022-10-26T16:41:46.287005Z",
     "shell.execute_reply": "2022-10-26T16:41:46.285481Z",
     "shell.execute_reply.started": "2022-10-26T16:41:45.905199Z"
    }
   },
   "outputs": [
    {
     "data": {
      "text/plain": [
       "<seaborn.axisgrid.FacetGrid at 0x23a3a8660d0>"
      ]
     },
     "execution_count": 129,
     "metadata": {},
     "output_type": "execute_result"
    },
    {
     "data": {
      "image/png": "[encoded data removed]",
      "text/plain": [
       "<Figure size 360x360 with 1 Axes>"
      ]
     },
     "metadata": {
      "needs_background": "light"
     },
     "output_type": "display_data"
    }
   ],
   "source": [
    "sns.displot(data=df, x = 'Age', bins=20, kde=True)\n",
    "# Data consists of values from 15 to 74 age and we have a good samples for all age bins"
   ]
  },
  {
   "cell_type": "code",
   "execution_count": 130,
   "metadata": {
    "execution": {
     "iopub.execute_input": "2022-10-26T16:41:46.289202Z",
     "iopub.status.busy": "2022-10-26T16:41:46.288517Z",
     "iopub.status.idle": "2022-10-26T16:41:46.298567Z",
     "shell.execute_reply": "2022-10-26T16:41:46.297246Z",
     "shell.execute_reply.started": "2022-10-26T16:41:46.289163Z"
    }
   },
   "outputs": [
    {
     "data": {
      "text/plain": [
       "M    104\n",
       "F     96\n",
       "Name: Sex, dtype: int64"
      ]
     },
     "execution_count": 130,
     "metadata": {},
     "output_type": "execute_result"
    }
   ],
   "source": [
    "df.Sex.value_counts()"
   ]
  },
  {
   "cell_type": "code",
   "execution_count": 131,
   "metadata": {
    "execution": {
     "iopub.execute_input": "2022-10-26T16:41:46.300976Z",
     "iopub.status.busy": "2022-10-26T16:41:46.300452Z",
     "iopub.status.idle": "2022-10-26T16:41:46.515841Z",
     "shell.execute_reply": "2022-10-26T16:41:46.514422Z",
     "shell.execute_reply.started": "2022-10-26T16:41:46.300932Z"
    }
   },
   "outputs": [
    {
     "data": {
      "text/plain": [
       "<AxesSubplot:xlabel='Sex', ylabel='count'>"
      ]
     },
     "execution_count": 131,
     "metadata": {},
     "output_type": "execute_result"
    },
    {
     "data": {
      "image/png": "[encoded data removed]",
      "text/plain": [
       "<Figure size 432x288 with 1 Axes>"
      ]
     },
     "metadata": {
      "needs_background": "light"
     },
     "output_type": "display_data"
    }
   ],
   "source": [
    "sns.countplot(data=df, x = 'Sex')\n",
    "# Both male and female have similar data size, with male being marginally more"
   ]
  },
  {
   "cell_type": "code",
   "execution_count": 132,
   "metadata": {
    "execution": {
     "iopub.execute_input": "2022-10-26T16:41:46.518294Z",
     "iopub.status.busy": "2022-10-26T16:41:46.517609Z",
     "iopub.status.idle": "2022-10-26T16:41:46.532743Z",
     "shell.execute_reply": "2022-10-26T16:41:46.530951Z",
     "shell.execute_reply.started": "2022-10-26T16:41:46.518258Z"
    }
   },
   "outputs": [
    {
     "data": {
      "text/plain": [
       "HIGH      77\n",
       "LOW       64\n",
       "NORMAL    59\n",
       "Name: BP, dtype: int64"
      ]
     },
     "execution_count": 132,
     "metadata": {},
     "output_type": "execute_result"
    }
   ],
   "source": [
    "df.BP.value_counts()"
   ]
  },
  {
   "cell_type": "code",
   "execution_count": 133,
   "metadata": {
    "execution": {
     "iopub.execute_input": "2022-10-26T16:41:46.536474Z",
     "iopub.status.busy": "2022-10-26T16:41:46.534842Z",
     "iopub.status.idle": "2022-10-26T16:41:46.759601Z",
     "shell.execute_reply": "2022-10-26T16:41:46.758247Z",
     "shell.execute_reply.started": "2022-10-26T16:41:46.536429Z"
    }
   },
   "outputs": [
    {
     "data": {
      "text/plain": [
       "<AxesSubplot:xlabel='BP', ylabel='count'>"
      ]
     },
     "execution_count": 133,
     "metadata": {},
     "output_type": "execute_result"
    },
    {
     "data": {
      "image/png": "[encoded data removed]",
      "text/plain": [
       "<Figure size 432x288 with 1 Axes>"
      ]
     },
     "metadata": {
      "needs_background": "light"
     },
     "output_type": "display_data"
    }
   ],
   "source": [
    "sns.countplot(data=df, x = 'BP')\n",
    "# Patients with high BP are more in count, next being low BP and Normal ones"
   ]
  },
  {
   "cell_type": "code",
   "execution_count": 134,
   "metadata": {
    "execution": {
     "iopub.execute_input": "2022-10-26T16:41:46.765553Z",
     "iopub.status.busy": "2022-10-26T16:41:46.765152Z",
     "iopub.status.idle": "2022-10-26T16:41:46.775341Z",
     "shell.execute_reply": "2022-10-26T16:41:46.773957Z",
     "shell.execute_reply.started": "2022-10-26T16:41:46.76552Z"
    }
   },
   "outputs": [
    {
     "data": {
      "text/plain": [
       "HIGH      103\n",
       "NORMAL     97\n",
       "Name: Cholesterol, dtype: int64"
      ]
     },
     "execution_count": 134,
     "metadata": {},
     "output_type": "execute_result"
    }
   ],
   "source": [
    "df.Cholesterol.value_counts()"
   ]
  },
  {
   "cell_type": "code",
   "execution_count": 135,
   "metadata": {
    "execution": {
     "iopub.execute_input": "2022-10-26T16:41:46.778633Z",
     "iopub.status.busy": "2022-10-26T16:41:46.777598Z",
     "iopub.status.idle": "2022-10-26T16:41:46.993804Z",
     "shell.execute_reply": "2022-10-26T16:41:46.99257Z",
     "shell.execute_reply.started": "2022-10-26T16:41:46.778564Z"
    }
   },
   "outputs": [
    {
     "data": {
      "text/plain": [
       "<AxesSubplot:xlabel='Cholesterol', ylabel='count'>"
      ]
     },
     "execution_count": 135,
     "metadata": {},
     "output_type": "execute_result"
    },
    {
     "data": {
      "image/png": "[encoded data removed]",
      "text/plain": [
       "<Figure size 432x288 with 1 Axes>"
      ]
     },
     "metadata": {
      "needs_background": "light"
     },
     "output_type": "display_data"
    }
   ],
   "source": [
    "sns.countplot(data=df, x = 'Cholesterol')\n",
    "# More people have High cholestrol comapred to normal ones"
   ]
  },
  {
   "cell_type": "code",
   "execution_count": 136,
   "metadata": {
    "execution": {
     "iopub.execute_input": "2022-10-26T16:41:46.996434Z",
     "iopub.status.busy": "2022-10-26T16:41:46.995616Z",
     "iopub.status.idle": "2022-10-26T16:41:47.005412Z",
     "shell.execute_reply": "2022-10-26T16:41:47.003692Z",
     "shell.execute_reply.started": "2022-10-26T16:41:46.996383Z"
    }
   },
   "outputs": [
    {
     "name": "stdout",
     "output_type": "stream",
     "text": [
      "Max of Age :  38.247\n",
      "Min of Age :  6.269\n"
     ]
    }
   ],
   "source": [
    "print('Max of Age : ', df.Na_to_K.max())\n",
    "print('Min of Age : ', df.Na_to_K.min())"
   ]
  },
  {
   "cell_type": "code",
   "execution_count": 137,
   "metadata": {
    "execution": {
     "iopub.execute_input": "2022-10-26T16:41:47.007864Z",
     "iopub.status.busy": "2022-10-26T16:41:47.006858Z",
     "iopub.status.idle": "2022-10-26T16:41:47.368152Z",
     "shell.execute_reply": "2022-10-26T16:41:47.366952Z",
     "shell.execute_reply.started": "2022-10-26T16:41:47.007685Z"
    }
   },
   "outputs": [
    {
     "data": {
      "text/plain": [
       "<seaborn.axisgrid.FacetGrid at 0x23a3ade7f10>"
      ]
     },
     "execution_count": 137,
     "metadata": {},
     "output_type": "execute_result"
    },
    {
     "data": {
      "image/png": "[encoded data removed]",
      "text/plain": [
       "<Figure size 360x360 with 1 Axes>"
      ]
     },
     "metadata": {
      "needs_background": "light"
     },
     "output_type": "display_data"
    }
   ],
   "source": [
    "sns.displot(data=df, x = 'Na_to_K', bins=10, kde=True)\n",
    "# we have values with very low to very high Na_to_K values"
   ]
  },
  {
   "cell_type": "code",
   "execution_count": 138,
   "metadata": {
    "execution": {
     "iopub.execute_input": "2022-10-26T16:41:47.370378Z",
     "iopub.status.busy": "2022-10-26T16:41:47.369981Z",
     "iopub.status.idle": "2022-10-26T16:41:47.379511Z",
     "shell.execute_reply": "2022-10-26T16:41:47.378335Z",
     "shell.execute_reply.started": "2022-10-26T16:41:47.370344Z"
    }
   },
   "outputs": [
    {
     "data": {
      "text/plain": [
       "DrugY    91\n",
       "drugX    54\n",
       "drugA    23\n",
       "drugC    16\n",
       "drugB    16\n",
       "Name: Drug, dtype: int64"
      ]
     },
     "execution_count": 138,
     "metadata": {},
     "output_type": "execute_result"
    }
   ],
   "source": [
    "df.Drug.value_counts()"
   ]
  },
  {
   "cell_type": "code",
   "execution_count": 139,
   "metadata": {
    "execution": {
     "iopub.execute_input": "2022-10-26T16:41:47.381779Z",
     "iopub.status.busy": "2022-10-26T16:41:47.381325Z",
     "iopub.status.idle": "2022-10-26T16:41:47.609548Z",
     "shell.execute_reply": "2022-10-26T16:41:47.60796Z",
     "shell.execute_reply.started": "2022-10-26T16:41:47.381744Z"
    }
   },
   "outputs": [
    {
     "data": {
      "text/plain": [
       "<AxesSubplot:xlabel='Drug', ylabel='count'>"
      ]
     },
     "execution_count": 139,
     "metadata": {},
     "output_type": "execute_result"
    },
    {
     "data": {
      "image/png": "[encoded data removed]",
      "text/plain": [
       "<Figure size 432x288 with 1 Axes>"
      ]
     },
     "metadata": {
      "needs_background": "light"
     },
     "output_type": "display_data"
    }
   ],
   "source": [
    "sns.countplot(data=df, x = 'Drug')\n",
    "# DrugY, DrugX are highly used compared other drugs"
   ]
  },
  {
   "cell_type": "markdown",
   "metadata": {},
   "source": [
    "### 3. Multivariate Analysis"
   ]
  },
  {
   "cell_type": "code",
   "execution_count": 140,
   "metadata": {
    "execution": {
     "iopub.execute_input": "2022-10-26T16:41:48.503149Z",
     "iopub.status.busy": "2022-10-26T16:41:48.502606Z",
     "iopub.status.idle": "2022-10-26T16:41:48.954637Z",
     "shell.execute_reply": "2022-10-26T16:41:48.953202Z",
     "shell.execute_reply.started": "2022-10-26T16:41:48.503099Z"
    }
   },
   "outputs": [
    {
     "data": {
      "text/plain": [
       "<AxesSubplot:xlabel='Age', ylabel='Na_to_K'>"
      ]
     },
     "execution_count": 140,
     "metadata": {},
     "output_type": "execute_result"
    },
    {
     "data": {
      "image/png": "[encoded data removed]",
      "text/plain": [
       "<Figure size 432x288 with 1 Axes>"
      ]
     },
     "metadata": {
      "needs_background": "light"
     },
     "output_type": "display_data"
    }
   ],
   "source": [
    "sns.scatterplot(data=df, x='Age', y='Na_to_K', hue='Drug')\n",
    "\n",
    "# Here we can make clear classification that Na_to_K ratio greater than 16 are using DrugY Others Drugs are below that level\n",
    "# DrugB is specifically seen for age group 50 above\n",
    "# DrugA is specifically seen for age group 20 to 50 age group\n",
    "# DrugX and Drug C seem all over"
   ]
  },
  {
   "cell_type": "code",
   "execution_count": null,
   "metadata": {},
   "outputs": [],
   "source": []
  }
 ],
 "metadata": {
  "kernelspec": {
   "display_name": "Python 3 (ipykernel)",
   "language": "python",
   "name": "python3"
  },
  "language_info": {
   "codemirror_mode": {
    "name": "ipython",
    "version": 3
   },
   "file_extension": ".py",
   "mimetype": "text/x-python",
   "name": "python",
   "nbconvert_exporter": "python",
   "pygments_lexer": "ipython3",
   "version": "3.9.12"
  }
 },
 "nbformat": 4,
 "nbformat_minor": 4
}
